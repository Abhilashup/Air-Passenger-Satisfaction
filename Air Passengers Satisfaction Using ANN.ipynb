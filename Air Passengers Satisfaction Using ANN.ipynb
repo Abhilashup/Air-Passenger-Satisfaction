{
 "cells": [
  {
   "cell_type": "markdown",
   "metadata": {},
   "source": [
    "# Air Passenger Satisfaction Using ANN"
   ]
  },
  {
   "cell_type": "markdown",
   "metadata": {},
   "source": [
    "## Introduction"
   ]
  },
  {
   "cell_type": "markdown",
   "metadata": {},
   "source": [
    "###### This is a model that predicts the satisfaction of passengers travelling in flights from a survey that was conducted in the US. The data was gathered from Kaggle. More than the creating the model, the main area of focus is to determine what are the features that drive customer satisfaction.\n",
    "\n",
    "We can see in the dataset that there are passengers who are have travelled in three classes; the Eco Class,Eco Plus and the Business Class. As per their travel experience, they have rated their experience, they have rated their  journey on the scale of 0-5 for various categories like Inflight Entertainment, Ease of Online Booking, On-Board Service, Checkin Service, Convenience of Departure and Arrival timings and more. The main column that we look out for in this is the satisfaction which has two types; one for the passengers who are satisfied and the other for those who are dissatisfied or are neutral about their flight journey experience."
   ]
  },
  {
   "cell_type": "markdown",
   "metadata": {},
   "source": [
    "# Imporing the libraries and Data Preprocessing"
   ]
  },
  {
   "cell_type": "code",
   "execution_count": 1,
   "metadata": {},
   "outputs": [],
   "source": [
    "#Importing the relevant libraries\n",
    "import pandas as pd\n",
    "import numpy as np\n",
    "import seaborn as sns\n",
    "import matplotlib.pyplot as plt\n",
    "%matplotlib inline"
   ]
  },
  {
   "cell_type": "code",
   "execution_count": 2,
   "metadata": {},
   "outputs": [],
   "source": [
    "import warnings\n",
    "warnings.filterwarnings('ignore')"
   ]
  },
  {
   "cell_type": "code",
   "execution_count": 3,
   "metadata": {},
   "outputs": [
    {
     "data": {
      "text/html": [
       "<div>\n",
       "<style scoped>\n",
       "    .dataframe tbody tr th:only-of-type {\n",
       "        vertical-align: middle;\n",
       "    }\n",
       "\n",
       "    .dataframe tbody tr th {\n",
       "        vertical-align: top;\n",
       "    }\n",
       "\n",
       "    .dataframe thead th {\n",
       "        text-align: right;\n",
       "    }\n",
       "</style>\n",
       "<table border=\"1\" class=\"dataframe\">\n",
       "  <thead>\n",
       "    <tr style=\"text-align: right;\">\n",
       "      <th></th>\n",
       "      <th>Unnamed: 0</th>\n",
       "      <th>id</th>\n",
       "      <th>Gender</th>\n",
       "      <th>Customer Type</th>\n",
       "      <th>Age</th>\n",
       "      <th>Type of Travel</th>\n",
       "      <th>Class</th>\n",
       "      <th>Flight Distance</th>\n",
       "      <th>Inflight wifi service</th>\n",
       "      <th>Departure/Arrival time convenient</th>\n",
       "      <th>...</th>\n",
       "      <th>Inflight entertainment</th>\n",
       "      <th>On-board service</th>\n",
       "      <th>Leg room service</th>\n",
       "      <th>Baggage handling</th>\n",
       "      <th>Checkin service</th>\n",
       "      <th>Inflight service</th>\n",
       "      <th>Cleanliness</th>\n",
       "      <th>Departure Delay in Minutes</th>\n",
       "      <th>Arrival Delay in Minutes</th>\n",
       "      <th>satisfaction</th>\n",
       "    </tr>\n",
       "  </thead>\n",
       "  <tbody>\n",
       "    <tr>\n",
       "      <th>0</th>\n",
       "      <td>0</td>\n",
       "      <td>70172</td>\n",
       "      <td>Male</td>\n",
       "      <td>Loyal Customer</td>\n",
       "      <td>13</td>\n",
       "      <td>Personal Travel</td>\n",
       "      <td>Eco Plus</td>\n",
       "      <td>460</td>\n",
       "      <td>3</td>\n",
       "      <td>4</td>\n",
       "      <td>...</td>\n",
       "      <td>5</td>\n",
       "      <td>4</td>\n",
       "      <td>3</td>\n",
       "      <td>4</td>\n",
       "      <td>4</td>\n",
       "      <td>5</td>\n",
       "      <td>5</td>\n",
       "      <td>25</td>\n",
       "      <td>18.0</td>\n",
       "      <td>neutral or dissatisfied</td>\n",
       "    </tr>\n",
       "    <tr>\n",
       "      <th>1</th>\n",
       "      <td>1</td>\n",
       "      <td>5047</td>\n",
       "      <td>Male</td>\n",
       "      <td>disloyal Customer</td>\n",
       "      <td>25</td>\n",
       "      <td>Business travel</td>\n",
       "      <td>Business</td>\n",
       "      <td>235</td>\n",
       "      <td>3</td>\n",
       "      <td>2</td>\n",
       "      <td>...</td>\n",
       "      <td>1</td>\n",
       "      <td>1</td>\n",
       "      <td>5</td>\n",
       "      <td>3</td>\n",
       "      <td>1</td>\n",
       "      <td>4</td>\n",
       "      <td>1</td>\n",
       "      <td>1</td>\n",
       "      <td>6.0</td>\n",
       "      <td>neutral or dissatisfied</td>\n",
       "    </tr>\n",
       "    <tr>\n",
       "      <th>2</th>\n",
       "      <td>2</td>\n",
       "      <td>110028</td>\n",
       "      <td>Female</td>\n",
       "      <td>Loyal Customer</td>\n",
       "      <td>26</td>\n",
       "      <td>Business travel</td>\n",
       "      <td>Business</td>\n",
       "      <td>1142</td>\n",
       "      <td>2</td>\n",
       "      <td>2</td>\n",
       "      <td>...</td>\n",
       "      <td>5</td>\n",
       "      <td>4</td>\n",
       "      <td>3</td>\n",
       "      <td>4</td>\n",
       "      <td>4</td>\n",
       "      <td>4</td>\n",
       "      <td>5</td>\n",
       "      <td>0</td>\n",
       "      <td>0.0</td>\n",
       "      <td>satisfied</td>\n",
       "    </tr>\n",
       "    <tr>\n",
       "      <th>3</th>\n",
       "      <td>3</td>\n",
       "      <td>24026</td>\n",
       "      <td>Female</td>\n",
       "      <td>Loyal Customer</td>\n",
       "      <td>25</td>\n",
       "      <td>Business travel</td>\n",
       "      <td>Business</td>\n",
       "      <td>562</td>\n",
       "      <td>2</td>\n",
       "      <td>5</td>\n",
       "      <td>...</td>\n",
       "      <td>2</td>\n",
       "      <td>2</td>\n",
       "      <td>5</td>\n",
       "      <td>3</td>\n",
       "      <td>1</td>\n",
       "      <td>4</td>\n",
       "      <td>2</td>\n",
       "      <td>11</td>\n",
       "      <td>9.0</td>\n",
       "      <td>neutral or dissatisfied</td>\n",
       "    </tr>\n",
       "    <tr>\n",
       "      <th>4</th>\n",
       "      <td>4</td>\n",
       "      <td>119299</td>\n",
       "      <td>Male</td>\n",
       "      <td>Loyal Customer</td>\n",
       "      <td>61</td>\n",
       "      <td>Business travel</td>\n",
       "      <td>Business</td>\n",
       "      <td>214</td>\n",
       "      <td>3</td>\n",
       "      <td>3</td>\n",
       "      <td>...</td>\n",
       "      <td>3</td>\n",
       "      <td>3</td>\n",
       "      <td>4</td>\n",
       "      <td>4</td>\n",
       "      <td>3</td>\n",
       "      <td>3</td>\n",
       "      <td>3</td>\n",
       "      <td>0</td>\n",
       "      <td>0.0</td>\n",
       "      <td>satisfied</td>\n",
       "    </tr>\n",
       "  </tbody>\n",
       "</table>\n",
       "<p>5 rows × 25 columns</p>\n",
       "</div>"
      ],
      "text/plain": [
       "   Unnamed: 0      id  Gender      Customer Type  Age   Type of Travel  \\\n",
       "0           0   70172    Male     Loyal Customer   13  Personal Travel   \n",
       "1           1    5047    Male  disloyal Customer   25  Business travel   \n",
       "2           2  110028  Female     Loyal Customer   26  Business travel   \n",
       "3           3   24026  Female     Loyal Customer   25  Business travel   \n",
       "4           4  119299    Male     Loyal Customer   61  Business travel   \n",
       "\n",
       "      Class  Flight Distance  Inflight wifi service  \\\n",
       "0  Eco Plus              460                      3   \n",
       "1  Business              235                      3   \n",
       "2  Business             1142                      2   \n",
       "3  Business              562                      2   \n",
       "4  Business              214                      3   \n",
       "\n",
       "   Departure/Arrival time convenient  ...  Inflight entertainment  \\\n",
       "0                                  4  ...                       5   \n",
       "1                                  2  ...                       1   \n",
       "2                                  2  ...                       5   \n",
       "3                                  5  ...                       2   \n",
       "4                                  3  ...                       3   \n",
       "\n",
       "   On-board service  Leg room service  Baggage handling  Checkin service  \\\n",
       "0                 4                 3                 4                4   \n",
       "1                 1                 5                 3                1   \n",
       "2                 4                 3                 4                4   \n",
       "3                 2                 5                 3                1   \n",
       "4                 3                 4                 4                3   \n",
       "\n",
       "   Inflight service  Cleanliness  Departure Delay in Minutes  \\\n",
       "0                 5            5                          25   \n",
       "1                 4            1                           1   \n",
       "2                 4            5                           0   \n",
       "3                 4            2                          11   \n",
       "4                 3            3                           0   \n",
       "\n",
       "   Arrival Delay in Minutes             satisfaction  \n",
       "0                      18.0  neutral or dissatisfied  \n",
       "1                       6.0  neutral or dissatisfied  \n",
       "2                       0.0                satisfied  \n",
       "3                       9.0  neutral or dissatisfied  \n",
       "4                       0.0                satisfied  \n",
       "\n",
       "[5 rows x 25 columns]"
      ]
     },
     "execution_count": 3,
     "metadata": {},
     "output_type": "execute_result"
    }
   ],
   "source": [
    "#Loading the dataset and checking the first 5 entries\n",
    "df = pd.read_csv('Air_Passengers.csv')\n",
    "df.head()"
   ]
  },
  {
   "cell_type": "code",
   "execution_count": 4,
   "metadata": {},
   "outputs": [],
   "source": [
    "#Dropping the Unnamed: 0 column as it has no significance on the dataset\n",
    "df = df.drop('Unnamed: 0',axis=1)"
   ]
  },
  {
   "cell_type": "code",
   "execution_count": 5,
   "metadata": {},
   "outputs": [
    {
     "data": {
      "text/html": [
       "<div>\n",
       "<style scoped>\n",
       "    .dataframe tbody tr th:only-of-type {\n",
       "        vertical-align: middle;\n",
       "    }\n",
       "\n",
       "    .dataframe tbody tr th {\n",
       "        vertical-align: top;\n",
       "    }\n",
       "\n",
       "    .dataframe thead th {\n",
       "        text-align: right;\n",
       "    }\n",
       "</style>\n",
       "<table border=\"1\" class=\"dataframe\">\n",
       "  <thead>\n",
       "    <tr style=\"text-align: right;\">\n",
       "      <th></th>\n",
       "      <th>id</th>\n",
       "      <th>Gender</th>\n",
       "      <th>Customer Type</th>\n",
       "      <th>Age</th>\n",
       "      <th>Type of Travel</th>\n",
       "      <th>Class</th>\n",
       "      <th>Flight Distance</th>\n",
       "      <th>Inflight wifi service</th>\n",
       "      <th>Departure/Arrival time convenient</th>\n",
       "      <th>Ease of Online booking</th>\n",
       "      <th>...</th>\n",
       "      <th>Inflight entertainment</th>\n",
       "      <th>On-board service</th>\n",
       "      <th>Leg room service</th>\n",
       "      <th>Baggage handling</th>\n",
       "      <th>Checkin service</th>\n",
       "      <th>Inflight service</th>\n",
       "      <th>Cleanliness</th>\n",
       "      <th>Departure Delay in Minutes</th>\n",
       "      <th>Arrival Delay in Minutes</th>\n",
       "      <th>satisfaction</th>\n",
       "    </tr>\n",
       "  </thead>\n",
       "  <tbody>\n",
       "    <tr>\n",
       "      <th>0</th>\n",
       "      <td>70172</td>\n",
       "      <td>Male</td>\n",
       "      <td>Loyal Customer</td>\n",
       "      <td>13</td>\n",
       "      <td>Personal Travel</td>\n",
       "      <td>Eco Plus</td>\n",
       "      <td>460</td>\n",
       "      <td>3</td>\n",
       "      <td>4</td>\n",
       "      <td>3</td>\n",
       "      <td>...</td>\n",
       "      <td>5</td>\n",
       "      <td>4</td>\n",
       "      <td>3</td>\n",
       "      <td>4</td>\n",
       "      <td>4</td>\n",
       "      <td>5</td>\n",
       "      <td>5</td>\n",
       "      <td>25</td>\n",
       "      <td>18.0</td>\n",
       "      <td>neutral or dissatisfied</td>\n",
       "    </tr>\n",
       "    <tr>\n",
       "      <th>1</th>\n",
       "      <td>5047</td>\n",
       "      <td>Male</td>\n",
       "      <td>disloyal Customer</td>\n",
       "      <td>25</td>\n",
       "      <td>Business travel</td>\n",
       "      <td>Business</td>\n",
       "      <td>235</td>\n",
       "      <td>3</td>\n",
       "      <td>2</td>\n",
       "      <td>3</td>\n",
       "      <td>...</td>\n",
       "      <td>1</td>\n",
       "      <td>1</td>\n",
       "      <td>5</td>\n",
       "      <td>3</td>\n",
       "      <td>1</td>\n",
       "      <td>4</td>\n",
       "      <td>1</td>\n",
       "      <td>1</td>\n",
       "      <td>6.0</td>\n",
       "      <td>neutral or dissatisfied</td>\n",
       "    </tr>\n",
       "    <tr>\n",
       "      <th>2</th>\n",
       "      <td>110028</td>\n",
       "      <td>Female</td>\n",
       "      <td>Loyal Customer</td>\n",
       "      <td>26</td>\n",
       "      <td>Business travel</td>\n",
       "      <td>Business</td>\n",
       "      <td>1142</td>\n",
       "      <td>2</td>\n",
       "      <td>2</td>\n",
       "      <td>2</td>\n",
       "      <td>...</td>\n",
       "      <td>5</td>\n",
       "      <td>4</td>\n",
       "      <td>3</td>\n",
       "      <td>4</td>\n",
       "      <td>4</td>\n",
       "      <td>4</td>\n",
       "      <td>5</td>\n",
       "      <td>0</td>\n",
       "      <td>0.0</td>\n",
       "      <td>satisfied</td>\n",
       "    </tr>\n",
       "    <tr>\n",
       "      <th>3</th>\n",
       "      <td>24026</td>\n",
       "      <td>Female</td>\n",
       "      <td>Loyal Customer</td>\n",
       "      <td>25</td>\n",
       "      <td>Business travel</td>\n",
       "      <td>Business</td>\n",
       "      <td>562</td>\n",
       "      <td>2</td>\n",
       "      <td>5</td>\n",
       "      <td>5</td>\n",
       "      <td>...</td>\n",
       "      <td>2</td>\n",
       "      <td>2</td>\n",
       "      <td>5</td>\n",
       "      <td>3</td>\n",
       "      <td>1</td>\n",
       "      <td>4</td>\n",
       "      <td>2</td>\n",
       "      <td>11</td>\n",
       "      <td>9.0</td>\n",
       "      <td>neutral or dissatisfied</td>\n",
       "    </tr>\n",
       "    <tr>\n",
       "      <th>4</th>\n",
       "      <td>119299</td>\n",
       "      <td>Male</td>\n",
       "      <td>Loyal Customer</td>\n",
       "      <td>61</td>\n",
       "      <td>Business travel</td>\n",
       "      <td>Business</td>\n",
       "      <td>214</td>\n",
       "      <td>3</td>\n",
       "      <td>3</td>\n",
       "      <td>3</td>\n",
       "      <td>...</td>\n",
       "      <td>3</td>\n",
       "      <td>3</td>\n",
       "      <td>4</td>\n",
       "      <td>4</td>\n",
       "      <td>3</td>\n",
       "      <td>3</td>\n",
       "      <td>3</td>\n",
       "      <td>0</td>\n",
       "      <td>0.0</td>\n",
       "      <td>satisfied</td>\n",
       "    </tr>\n",
       "  </tbody>\n",
       "</table>\n",
       "<p>5 rows × 24 columns</p>\n",
       "</div>"
      ],
      "text/plain": [
       "       id  Gender      Customer Type  Age   Type of Travel     Class  \\\n",
       "0   70172    Male     Loyal Customer   13  Personal Travel  Eco Plus   \n",
       "1    5047    Male  disloyal Customer   25  Business travel  Business   \n",
       "2  110028  Female     Loyal Customer   26  Business travel  Business   \n",
       "3   24026  Female     Loyal Customer   25  Business travel  Business   \n",
       "4  119299    Male     Loyal Customer   61  Business travel  Business   \n",
       "\n",
       "   Flight Distance  Inflight wifi service  Departure/Arrival time convenient  \\\n",
       "0              460                      3                                  4   \n",
       "1              235                      3                                  2   \n",
       "2             1142                      2                                  2   \n",
       "3              562                      2                                  5   \n",
       "4              214                      3                                  3   \n",
       "\n",
       "   Ease of Online booking  ...  Inflight entertainment  On-board service  \\\n",
       "0                       3  ...                       5                 4   \n",
       "1                       3  ...                       1                 1   \n",
       "2                       2  ...                       5                 4   \n",
       "3                       5  ...                       2                 2   \n",
       "4                       3  ...                       3                 3   \n",
       "\n",
       "   Leg room service  Baggage handling  Checkin service  Inflight service  \\\n",
       "0                 3                 4                4                 5   \n",
       "1                 5                 3                1                 4   \n",
       "2                 3                 4                4                 4   \n",
       "3                 5                 3                1                 4   \n",
       "4                 4                 4                3                 3   \n",
       "\n",
       "   Cleanliness  Departure Delay in Minutes  Arrival Delay in Minutes  \\\n",
       "0            5                          25                      18.0   \n",
       "1            1                           1                       6.0   \n",
       "2            5                           0                       0.0   \n",
       "3            2                          11                       9.0   \n",
       "4            3                           0                       0.0   \n",
       "\n",
       "              satisfaction  \n",
       "0  neutral or dissatisfied  \n",
       "1  neutral or dissatisfied  \n",
       "2                satisfied  \n",
       "3  neutral or dissatisfied  \n",
       "4                satisfied  \n",
       "\n",
       "[5 rows x 24 columns]"
      ]
     },
     "execution_count": 5,
     "metadata": {},
     "output_type": "execute_result"
    }
   ],
   "source": [
    "df.head()"
   ]
  },
  {
   "cell_type": "code",
   "execution_count": 6,
   "metadata": {},
   "outputs": [
    {
     "name": "stdout",
     "output_type": "stream",
     "text": [
      "<class 'pandas.core.frame.DataFrame'>\n",
      "RangeIndex: 103904 entries, 0 to 103903\n",
      "Data columns (total 24 columns):\n",
      " #   Column                             Non-Null Count   Dtype  \n",
      "---  ------                             --------------   -----  \n",
      " 0   id                                 103904 non-null  int64  \n",
      " 1   Gender                             103904 non-null  object \n",
      " 2   Customer Type                      103904 non-null  object \n",
      " 3   Age                                103904 non-null  int64  \n",
      " 4   Type of Travel                     103904 non-null  object \n",
      " 5   Class                              103904 non-null  object \n",
      " 6   Flight Distance                    103904 non-null  int64  \n",
      " 7   Inflight wifi service              103904 non-null  int64  \n",
      " 8   Departure/Arrival time convenient  103904 non-null  int64  \n",
      " 9   Ease of Online booking             103904 non-null  int64  \n",
      " 10  Gate location                      103904 non-null  int64  \n",
      " 11  Food and drink                     103904 non-null  int64  \n",
      " 12  Online boarding                    103904 non-null  int64  \n",
      " 13  Seat comfort                       103904 non-null  int64  \n",
      " 14  Inflight entertainment             103904 non-null  int64  \n",
      " 15  On-board service                   103904 non-null  int64  \n",
      " 16  Leg room service                   103904 non-null  int64  \n",
      " 17  Baggage handling                   103904 non-null  int64  \n",
      " 18  Checkin service                    103904 non-null  int64  \n",
      " 19  Inflight service                   103904 non-null  int64  \n",
      " 20  Cleanliness                        103904 non-null  int64  \n",
      " 21  Departure Delay in Minutes         103904 non-null  int64  \n",
      " 22  Arrival Delay in Minutes           103594 non-null  float64\n",
      " 23  satisfaction                       103904 non-null  object \n",
      "dtypes: float64(1), int64(18), object(5)\n",
      "memory usage: 19.0+ MB\n"
     ]
    }
   ],
   "source": [
    "df.info()"
   ]
  },
  {
   "cell_type": "code",
   "execution_count": 7,
   "metadata": {},
   "outputs": [
    {
     "data": {
      "text/plain": [
       "id                                     0\n",
       "Gender                                 0\n",
       "Customer Type                          0\n",
       "Age                                    0\n",
       "Type of Travel                         0\n",
       "Class                                  0\n",
       "Flight Distance                        0\n",
       "Inflight wifi service                  0\n",
       "Departure/Arrival time convenient      0\n",
       "Ease of Online booking                 0\n",
       "Gate location                          0\n",
       "Food and drink                         0\n",
       "Online boarding                        0\n",
       "Seat comfort                           0\n",
       "Inflight entertainment                 0\n",
       "On-board service                       0\n",
       "Leg room service                       0\n",
       "Baggage handling                       0\n",
       "Checkin service                        0\n",
       "Inflight service                       0\n",
       "Cleanliness                            0\n",
       "Departure Delay in Minutes             0\n",
       "Arrival Delay in Minutes             310\n",
       "satisfaction                           0\n",
       "dtype: int64"
      ]
     },
     "execution_count": 7,
     "metadata": {},
     "output_type": "execute_result"
    }
   ],
   "source": [
    "#Checking for null values and we can see that there are a few null values which will be filled up later\n",
    "df.isnull().sum()"
   ]
  },
  {
   "cell_type": "code",
   "execution_count": 8,
   "metadata": {},
   "outputs": [
    {
     "data": {
      "text/plain": [
       "array(['neutral or dissatisfied', 'satisfied'], dtype=object)"
      ]
     },
     "execution_count": 8,
     "metadata": {},
     "output_type": "execute_result"
    }
   ],
   "source": [
    "df['satisfaction'].unique()"
   ]
  },
  {
   "cell_type": "markdown",
   "metadata": {},
   "source": [
    "Here, satisfaction has two types, one is neutral or dissatisfied and the other satisfied. It will be replaced with 0 for neutral or dissatisfied and 1 for satisfied as a machinelearning model only takes in numerical values. There are other categorical variables in the dataset which  will be replaced with numerical values later."
   ]
  },
  {
   "cell_type": "code",
   "execution_count": 9,
   "metadata": {},
   "outputs": [],
   "source": [
    "df['satisfaction'].replace({'neutral or dissatisfied' : 0, 'satisfied' : 1},inplace=True)"
   ]
  },
  {
   "cell_type": "code",
   "execution_count": 10,
   "metadata": {},
   "outputs": [
    {
     "data": {
      "text/html": [
       "<div>\n",
       "<style scoped>\n",
       "    .dataframe tbody tr th:only-of-type {\n",
       "        vertical-align: middle;\n",
       "    }\n",
       "\n",
       "    .dataframe tbody tr th {\n",
       "        vertical-align: top;\n",
       "    }\n",
       "\n",
       "    .dataframe thead th {\n",
       "        text-align: right;\n",
       "    }\n",
       "</style>\n",
       "<table border=\"1\" class=\"dataframe\">\n",
       "  <thead>\n",
       "    <tr style=\"text-align: right;\">\n",
       "      <th></th>\n",
       "      <th>id</th>\n",
       "      <th>Gender</th>\n",
       "      <th>Customer Type</th>\n",
       "      <th>Age</th>\n",
       "      <th>Type of Travel</th>\n",
       "      <th>Class</th>\n",
       "      <th>Flight Distance</th>\n",
       "      <th>Inflight wifi service</th>\n",
       "      <th>Departure/Arrival time convenient</th>\n",
       "      <th>Ease of Online booking</th>\n",
       "      <th>...</th>\n",
       "      <th>Inflight entertainment</th>\n",
       "      <th>On-board service</th>\n",
       "      <th>Leg room service</th>\n",
       "      <th>Baggage handling</th>\n",
       "      <th>Checkin service</th>\n",
       "      <th>Inflight service</th>\n",
       "      <th>Cleanliness</th>\n",
       "      <th>Departure Delay in Minutes</th>\n",
       "      <th>Arrival Delay in Minutes</th>\n",
       "      <th>satisfaction</th>\n",
       "    </tr>\n",
       "  </thead>\n",
       "  <tbody>\n",
       "    <tr>\n",
       "      <th>0</th>\n",
       "      <td>70172</td>\n",
       "      <td>Male</td>\n",
       "      <td>Loyal Customer</td>\n",
       "      <td>13</td>\n",
       "      <td>Personal Travel</td>\n",
       "      <td>Eco Plus</td>\n",
       "      <td>460</td>\n",
       "      <td>3</td>\n",
       "      <td>4</td>\n",
       "      <td>3</td>\n",
       "      <td>...</td>\n",
       "      <td>5</td>\n",
       "      <td>4</td>\n",
       "      <td>3</td>\n",
       "      <td>4</td>\n",
       "      <td>4</td>\n",
       "      <td>5</td>\n",
       "      <td>5</td>\n",
       "      <td>25</td>\n",
       "      <td>18.0</td>\n",
       "      <td>0</td>\n",
       "    </tr>\n",
       "    <tr>\n",
       "      <th>1</th>\n",
       "      <td>5047</td>\n",
       "      <td>Male</td>\n",
       "      <td>disloyal Customer</td>\n",
       "      <td>25</td>\n",
       "      <td>Business travel</td>\n",
       "      <td>Business</td>\n",
       "      <td>235</td>\n",
       "      <td>3</td>\n",
       "      <td>2</td>\n",
       "      <td>3</td>\n",
       "      <td>...</td>\n",
       "      <td>1</td>\n",
       "      <td>1</td>\n",
       "      <td>5</td>\n",
       "      <td>3</td>\n",
       "      <td>1</td>\n",
       "      <td>4</td>\n",
       "      <td>1</td>\n",
       "      <td>1</td>\n",
       "      <td>6.0</td>\n",
       "      <td>0</td>\n",
       "    </tr>\n",
       "    <tr>\n",
       "      <th>2</th>\n",
       "      <td>110028</td>\n",
       "      <td>Female</td>\n",
       "      <td>Loyal Customer</td>\n",
       "      <td>26</td>\n",
       "      <td>Business travel</td>\n",
       "      <td>Business</td>\n",
       "      <td>1142</td>\n",
       "      <td>2</td>\n",
       "      <td>2</td>\n",
       "      <td>2</td>\n",
       "      <td>...</td>\n",
       "      <td>5</td>\n",
       "      <td>4</td>\n",
       "      <td>3</td>\n",
       "      <td>4</td>\n",
       "      <td>4</td>\n",
       "      <td>4</td>\n",
       "      <td>5</td>\n",
       "      <td>0</td>\n",
       "      <td>0.0</td>\n",
       "      <td>1</td>\n",
       "    </tr>\n",
       "    <tr>\n",
       "      <th>3</th>\n",
       "      <td>24026</td>\n",
       "      <td>Female</td>\n",
       "      <td>Loyal Customer</td>\n",
       "      <td>25</td>\n",
       "      <td>Business travel</td>\n",
       "      <td>Business</td>\n",
       "      <td>562</td>\n",
       "      <td>2</td>\n",
       "      <td>5</td>\n",
       "      <td>5</td>\n",
       "      <td>...</td>\n",
       "      <td>2</td>\n",
       "      <td>2</td>\n",
       "      <td>5</td>\n",
       "      <td>3</td>\n",
       "      <td>1</td>\n",
       "      <td>4</td>\n",
       "      <td>2</td>\n",
       "      <td>11</td>\n",
       "      <td>9.0</td>\n",
       "      <td>0</td>\n",
       "    </tr>\n",
       "    <tr>\n",
       "      <th>4</th>\n",
       "      <td>119299</td>\n",
       "      <td>Male</td>\n",
       "      <td>Loyal Customer</td>\n",
       "      <td>61</td>\n",
       "      <td>Business travel</td>\n",
       "      <td>Business</td>\n",
       "      <td>214</td>\n",
       "      <td>3</td>\n",
       "      <td>3</td>\n",
       "      <td>3</td>\n",
       "      <td>...</td>\n",
       "      <td>3</td>\n",
       "      <td>3</td>\n",
       "      <td>4</td>\n",
       "      <td>4</td>\n",
       "      <td>3</td>\n",
       "      <td>3</td>\n",
       "      <td>3</td>\n",
       "      <td>0</td>\n",
       "      <td>0.0</td>\n",
       "      <td>1</td>\n",
       "    </tr>\n",
       "  </tbody>\n",
       "</table>\n",
       "<p>5 rows × 24 columns</p>\n",
       "</div>"
      ],
      "text/plain": [
       "       id  Gender      Customer Type  Age   Type of Travel     Class  \\\n",
       "0   70172    Male     Loyal Customer   13  Personal Travel  Eco Plus   \n",
       "1    5047    Male  disloyal Customer   25  Business travel  Business   \n",
       "2  110028  Female     Loyal Customer   26  Business travel  Business   \n",
       "3   24026  Female     Loyal Customer   25  Business travel  Business   \n",
       "4  119299    Male     Loyal Customer   61  Business travel  Business   \n",
       "\n",
       "   Flight Distance  Inflight wifi service  Departure/Arrival time convenient  \\\n",
       "0              460                      3                                  4   \n",
       "1              235                      3                                  2   \n",
       "2             1142                      2                                  2   \n",
       "3              562                      2                                  5   \n",
       "4              214                      3                                  3   \n",
       "\n",
       "   Ease of Online booking  ...  Inflight entertainment  On-board service  \\\n",
       "0                       3  ...                       5                 4   \n",
       "1                       3  ...                       1                 1   \n",
       "2                       2  ...                       5                 4   \n",
       "3                       5  ...                       2                 2   \n",
       "4                       3  ...                       3                 3   \n",
       "\n",
       "   Leg room service  Baggage handling  Checkin service  Inflight service  \\\n",
       "0                 3                 4                4                 5   \n",
       "1                 5                 3                1                 4   \n",
       "2                 3                 4                4                 4   \n",
       "3                 5                 3                1                 4   \n",
       "4                 4                 4                3                 3   \n",
       "\n",
       "   Cleanliness  Departure Delay in Minutes  Arrival Delay in Minutes  \\\n",
       "0            5                          25                      18.0   \n",
       "1            1                           1                       6.0   \n",
       "2            5                           0                       0.0   \n",
       "3            2                          11                       9.0   \n",
       "4            3                           0                       0.0   \n",
       "\n",
       "   satisfaction  \n",
       "0             0  \n",
       "1             0  \n",
       "2             1  \n",
       "3             0  \n",
       "4             1  \n",
       "\n",
       "[5 rows x 24 columns]"
      ]
     },
     "execution_count": 10,
     "metadata": {},
     "output_type": "execute_result"
    }
   ],
   "source": [
    "df.head()"
   ]
  },
  {
   "cell_type": "code",
   "execution_count": 11,
   "metadata": {},
   "outputs": [],
   "source": [
    "#The Arrival Delay in Minutes has a few missing values and it is filled with the mean.\n",
    "df['Arrival Delay in Minutes'] = df['Arrival Delay in Minutes'].fillna(df['Arrival Delay in Minutes'].mean())"
   ]
  },
  {
   "cell_type": "markdown",
   "metadata": {},
   "source": [
    "### Checking for Imbalance"
   ]
  },
  {
   "cell_type": "code",
   "execution_count": 12,
   "metadata": {},
   "outputs": [
    {
     "data": {
      "image/png": "[encoded data removed]",
      "text/plain": [
       "<Figure size 432x288 with 1 Axes>"
      ]
     },
     "metadata": {
      "needs_background": "light"
     },
     "output_type": "display_data"
    }
   ],
   "source": [
    "plt.figure()\n",
    "sns.countplot(x='satisfaction',data=df)\n",
    "plt.title('Customer Satisfaction Count')\n",
    "sns.set_style('ticks')"
   ]
  },
  {
   "cell_type": "markdown",
   "metadata": {},
   "source": [
    "The data is balanced well between the two categories and hence no balancing of data is required for this dataset."
   ]
  },
  {
   "cell_type": "markdown",
   "metadata": {},
   "source": [
    "# Exploratory Data Analysis"
   ]
  },
  {
   "cell_type": "code",
   "execution_count": 13,
   "metadata": {},
   "outputs": [
    {
     "data": {
      "text/plain": [
       "Text(0.5, 1.0, 'Customer Satisfaction Based on Gender')"
      ]
     },
     "execution_count": 13,
     "metadata": {},
     "output_type": "execute_result"
    },
    {
     "data": {
      "image/png": "[encoded data removed]",
      "text/plain": [
       "<Figure size 432x288 with 1 Axes>"
      ]
     },
     "metadata": {},
     "output_type": "display_data"
    }
   ],
   "source": [
    "sns.countplot(x='Gender',data=df,hue='satisfaction')\n",
    "plt.title('Customer Satisfaction Based on Gender')"
   ]
  },
  {
   "cell_type": "markdown",
   "metadata": {},
   "source": [
    "The number of satisfied customers for both male and  female is almost the same but we can see that for both of them, the number of dissatisfied or neutral customers are on the higher side."
   ]
  },
  {
   "cell_type": "code",
   "execution_count": 14,
   "metadata": {},
   "outputs": [
    {
     "data": {
      "text/plain": [
       "Text(0.5, 1.0, 'Age vs Passenger Satisfaction')"
      ]
     },
     "execution_count": 14,
     "metadata": {},
     "output_type": "execute_result"
    },
    {
     "data": {
      "image/png": "[encoded data removed]",
      "text/plain": [
       "<Figure size 1440x720 with 1 Axes>"
      ]
     },
     "metadata": {},
     "output_type": "display_data"
    }
   ],
   "source": [
    "plt.figure(figsize=(20,10))\n",
    "sns.countplot(x='Age',data=df,hue='satisfaction')\n",
    "plt.title('Age vs Passenger Satisfaction')"
   ]
  },
  {
   "cell_type": "markdown",
   "metadata": {},
   "source": [
    "There are a lot of passengers aged between 7-39 and 60-70 who seem to dissatisfied and the airline companies may have to look into ways in which they can make the journey satisfactory for this group of passengers."
   ]
  },
  {
   "cell_type": "code",
   "execution_count": 15,
   "metadata": {},
   "outputs": [
    {
     "data": {
      "text/plain": [
       "Text(0.5, 1.0, 'Customer Satisfaction Based on Class')"
      ]
     },
     "execution_count": 15,
     "metadata": {},
     "output_type": "execute_result"
    },
    {
     "data": {
      "image/png": "[encoded data removed]",
      "text/plain": [
       "<Figure size 432x288 with 1 Axes>"
      ]
     },
     "metadata": {},
     "output_type": "display_data"
    }
   ],
   "source": [
    "sns.countplot(x='Class',data=df,hue='satisfaction')\n",
    "plt.title('Customer Satisfaction Based on Class')"
   ]
  },
  {
   "cell_type": "markdown",
   "metadata": {},
   "source": [
    "Here, we can see that there is a high number of neutral or dissatisfied customers in the Economy Class compared to the Eco Plus and Business Classes. The Eco Plus Class also has a lot of dissatisfied or neutral passengers compared to the satisfied."
   ]
  },
  {
   "cell_type": "code",
   "execution_count": 16,
   "metadata": {},
   "outputs": [
    {
     "data": {
      "image/png": "[encoded data removed]",
      "text/plain": [
       "<Figure size 1138.88x360 with 3 Axes>"
      ]
     },
     "metadata": {},
     "output_type": "display_data"
    }
   ],
   "source": [
    "g = sns.catplot(x='Flight Distance',y='Type of Travel',hue='satisfaction',col='Class',data=df,kind='bar')"
   ]
  },
  {
   "cell_type": "markdown",
   "metadata": {},
   "source": [
    "There are a lot of satisfied customers who are travelling long distances for the Business purposes in Business Class. There is also has a high number of neutral or dissatisfied customers.\n",
    "\n",
    "For the rest, the ratio seems to be almost equal."
   ]
  },
  {
   "cell_type": "code",
   "execution_count": 17,
   "metadata": {},
   "outputs": [
    {
     "data": {
      "image/png": "[encoded data removed]",
      "text/plain": [
       "<Figure size 1138.88x360 with 3 Axes>"
      ]
     },
     "metadata": {},
     "output_type": "display_data"
    }
   ],
   "source": [
    "g = sns.catplot(x='Departure/Arrival time convenient',y='Online boarding',hue='satisfaction',col='Class',data=df,kind='bar')"
   ]
  },
  {
   "cell_type": "markdown",
   "metadata": {},
   "source": [
    "It looks like the number of neutral or dissatisfied passengers are more than the satisfied passengers for Eco Plus Class with Departure/Arrival Time Convenient=0 despite the online boarding. The airline may have to look at these and make sure to improve their services."
   ]
  },
  {
   "cell_type": "code",
   "execution_count": 18,
   "metadata": {},
   "outputs": [
    {
     "data": {
      "image/png": "[encoded data removed]",
      "text/plain": [
       "<Figure size 778.875x360 with 2 Axes>"
      ]
     },
     "metadata": {},
     "output_type": "display_data"
    },
    {
     "data": {
      "image/png": "[encoded data removed]",
      "text/plain": [
       "<Figure size 778.875x360 with 2 Axes>"
      ]
     },
     "metadata": {},
     "output_type": "display_data"
    }
   ],
   "source": [
    "g = sns.catplot(x='Class',y='Departure Delay in Minutes',hue='satisfaction',col='Type of Travel',data=df,kind='bar')\n",
    "\n",
    "g = sns.catplot(x='Class',y='Arrival Delay in Minutes',hue='satisfaction',col='Type of Travel',data=df,kind='bar')"
   ]
  },
  {
   "cell_type": "markdown",
   "metadata": {},
   "source": [
    "No one is happy when their flight gets delayed or arrives late. But, when we look at the plots, we can see that there are a lot of dissatisfied or neutral customers compared to the satisfied customers for those who are travelling in Eco Plus class and are are on a Personal Travel."
   ]
  },
  {
   "cell_type": "code",
   "execution_count": 19,
   "metadata": {},
   "outputs": [
    {
     "data": {
      "text/plain": [
       "<matplotlib.axes._subplots.AxesSubplot at 0x29eaf795310>"
      ]
     },
     "execution_count": 19,
     "metadata": {},
     "output_type": "execute_result"
    },
    {
     "data": {
      "image/png": "[encoded data removed]",
      "text/plain": [
       "<Figure size 864x576 with 1 Axes>"
      ]
     },
     "metadata": {},
     "output_type": "display_data"
    }
   ],
   "source": [
    "plt.figure(figsize=(12,8))\n",
    "sns.countplot(x='Inflight entertainment',data=df,hue='satisfaction')"
   ]
  },
  {
   "cell_type": "code",
   "execution_count": 20,
   "metadata": {},
   "outputs": [
    {
     "data": {
      "image/png": "[encoded data removed]",
      "text/plain": [
       "<Figure size 1080x360 with 6 Axes>"
      ]
     },
     "metadata": {},
     "output_type": "display_data"
    }
   ],
   "source": [
    "g = sns.catplot('satisfaction',col='Cleanliness',data=df,kind='count',aspect=0.5)"
   ]
  },
  {
   "cell_type": "code",
   "execution_count": 21,
   "metadata": {},
   "outputs": [
    {
     "data": {
      "image/png": "[encoded data removed]",
      "text/plain": [
       "<Figure size 1080x360 with 6 Axes>"
      ]
     },
     "metadata": {},
     "output_type": "display_data"
    }
   ],
   "source": [
    "g = sns.catplot('satisfaction',col='Food and drink',data=df,kind='count',aspect=0.5)"
   ]
  },
  {
   "cell_type": "markdown",
   "metadata": {},
   "source": [
    "For the Inflight Entertainment, Food and drink as well and Cleanliness columns, the ratings are given on the scale of 0-5. The satisfied customers belong to the ones who have rated 4 and 5 and most of the dissatisfied or neutral customers have given a rating below 4. "
   ]
  },
  {
   "cell_type": "markdown",
   "metadata": {},
   "source": [
    "### One Hot Encoding for the Categorical Variables"
   ]
  },
  {
   "cell_type": "code",
   "execution_count": 22,
   "metadata": {},
   "outputs": [],
   "source": [
    "gender = pd.get_dummies(df['Gender'],drop_first=True)\n",
    "customer_type = pd.get_dummies(df['Customer Type'],drop_first=True)\n",
    "tot = pd.get_dummies(df['Type of Travel'],drop_first=True)\n",
    "cs = pd.get_dummies(df['Class'],drop_first=True)"
   ]
  },
  {
   "cell_type": "code",
   "execution_count": 23,
   "metadata": {},
   "outputs": [],
   "source": [
    "df.drop(['Gender','Customer Type','Type of Travel','Class'],axis=1,inplace=True)"
   ]
  },
  {
   "cell_type": "code",
   "execution_count": 24,
   "metadata": {},
   "outputs": [],
   "source": [
    "df = pd.concat([df,gender,customer_type,tot,cs],axis=1)"
   ]
  },
  {
   "cell_type": "code",
   "execution_count": 25,
   "metadata": {},
   "outputs": [
    {
     "data": {
      "text/html": [
       "<div>\n",
       "<style scoped>\n",
       "    .dataframe tbody tr th:only-of-type {\n",
       "        vertical-align: middle;\n",
       "    }\n",
       "\n",
       "    .dataframe tbody tr th {\n",
       "        vertical-align: top;\n",
       "    }\n",
       "\n",
       "    .dataframe thead th {\n",
       "        text-align: right;\n",
       "    }\n",
       "</style>\n",
       "<table border=\"1\" class=\"dataframe\">\n",
       "  <thead>\n",
       "    <tr style=\"text-align: right;\">\n",
       "      <th></th>\n",
       "      <th>id</th>\n",
       "      <th>Age</th>\n",
       "      <th>Flight Distance</th>\n",
       "      <th>Inflight wifi service</th>\n",
       "      <th>Departure/Arrival time convenient</th>\n",
       "      <th>Ease of Online booking</th>\n",
       "      <th>Gate location</th>\n",
       "      <th>Food and drink</th>\n",
       "      <th>Online boarding</th>\n",
       "      <th>Seat comfort</th>\n",
       "      <th>...</th>\n",
       "      <th>Inflight service</th>\n",
       "      <th>Cleanliness</th>\n",
       "      <th>Departure Delay in Minutes</th>\n",
       "      <th>Arrival Delay in Minutes</th>\n",
       "      <th>satisfaction</th>\n",
       "      <th>Male</th>\n",
       "      <th>disloyal Customer</th>\n",
       "      <th>Personal Travel</th>\n",
       "      <th>Eco</th>\n",
       "      <th>Eco Plus</th>\n",
       "    </tr>\n",
       "  </thead>\n",
       "  <tbody>\n",
       "    <tr>\n",
       "      <th>0</th>\n",
       "      <td>70172</td>\n",
       "      <td>13</td>\n",
       "      <td>460</td>\n",
       "      <td>3</td>\n",
       "      <td>4</td>\n",
       "      <td>3</td>\n",
       "      <td>1</td>\n",
       "      <td>5</td>\n",
       "      <td>3</td>\n",
       "      <td>5</td>\n",
       "      <td>...</td>\n",
       "      <td>5</td>\n",
       "      <td>5</td>\n",
       "      <td>25</td>\n",
       "      <td>18.0</td>\n",
       "      <td>0</td>\n",
       "      <td>1</td>\n",
       "      <td>0</td>\n",
       "      <td>1</td>\n",
       "      <td>0</td>\n",
       "      <td>1</td>\n",
       "    </tr>\n",
       "    <tr>\n",
       "      <th>1</th>\n",
       "      <td>5047</td>\n",
       "      <td>25</td>\n",
       "      <td>235</td>\n",
       "      <td>3</td>\n",
       "      <td>2</td>\n",
       "      <td>3</td>\n",
       "      <td>3</td>\n",
       "      <td>1</td>\n",
       "      <td>3</td>\n",
       "      <td>1</td>\n",
       "      <td>...</td>\n",
       "      <td>4</td>\n",
       "      <td>1</td>\n",
       "      <td>1</td>\n",
       "      <td>6.0</td>\n",
       "      <td>0</td>\n",
       "      <td>1</td>\n",
       "      <td>1</td>\n",
       "      <td>0</td>\n",
       "      <td>0</td>\n",
       "      <td>0</td>\n",
       "    </tr>\n",
       "    <tr>\n",
       "      <th>2</th>\n",
       "      <td>110028</td>\n",
       "      <td>26</td>\n",
       "      <td>1142</td>\n",
       "      <td>2</td>\n",
       "      <td>2</td>\n",
       "      <td>2</td>\n",
       "      <td>2</td>\n",
       "      <td>5</td>\n",
       "      <td>5</td>\n",
       "      <td>5</td>\n",
       "      <td>...</td>\n",
       "      <td>4</td>\n",
       "      <td>5</td>\n",
       "      <td>0</td>\n",
       "      <td>0.0</td>\n",
       "      <td>1</td>\n",
       "      <td>0</td>\n",
       "      <td>0</td>\n",
       "      <td>0</td>\n",
       "      <td>0</td>\n",
       "      <td>0</td>\n",
       "    </tr>\n",
       "    <tr>\n",
       "      <th>3</th>\n",
       "      <td>24026</td>\n",
       "      <td>25</td>\n",
       "      <td>562</td>\n",
       "      <td>2</td>\n",
       "      <td>5</td>\n",
       "      <td>5</td>\n",
       "      <td>5</td>\n",
       "      <td>2</td>\n",
       "      <td>2</td>\n",
       "      <td>2</td>\n",
       "      <td>...</td>\n",
       "      <td>4</td>\n",
       "      <td>2</td>\n",
       "      <td>11</td>\n",
       "      <td>9.0</td>\n",
       "      <td>0</td>\n",
       "      <td>0</td>\n",
       "      <td>0</td>\n",
       "      <td>0</td>\n",
       "      <td>0</td>\n",
       "      <td>0</td>\n",
       "    </tr>\n",
       "    <tr>\n",
       "      <th>4</th>\n",
       "      <td>119299</td>\n",
       "      <td>61</td>\n",
       "      <td>214</td>\n",
       "      <td>3</td>\n",
       "      <td>3</td>\n",
       "      <td>3</td>\n",
       "      <td>3</td>\n",
       "      <td>4</td>\n",
       "      <td>5</td>\n",
       "      <td>5</td>\n",
       "      <td>...</td>\n",
       "      <td>3</td>\n",
       "      <td>3</td>\n",
       "      <td>0</td>\n",
       "      <td>0.0</td>\n",
       "      <td>1</td>\n",
       "      <td>1</td>\n",
       "      <td>0</td>\n",
       "      <td>0</td>\n",
       "      <td>0</td>\n",
       "      <td>0</td>\n",
       "    </tr>\n",
       "  </tbody>\n",
       "</table>\n",
       "<p>5 rows × 25 columns</p>\n",
       "</div>"
      ],
      "text/plain": [
       "       id  Age  Flight Distance  Inflight wifi service  \\\n",
       "0   70172   13              460                      3   \n",
       "1    5047   25              235                      3   \n",
       "2  110028   26             1142                      2   \n",
       "3   24026   25              562                      2   \n",
       "4  119299   61              214                      3   \n",
       "\n",
       "   Departure/Arrival time convenient  Ease of Online booking  Gate location  \\\n",
       "0                                  4                       3              1   \n",
       "1                                  2                       3              3   \n",
       "2                                  2                       2              2   \n",
       "3                                  5                       5              5   \n",
       "4                                  3                       3              3   \n",
       "\n",
       "   Food and drink  Online boarding  Seat comfort  ...  Inflight service  \\\n",
       "0               5                3             5  ...                 5   \n",
       "1               1                3             1  ...                 4   \n",
       "2               5                5             5  ...                 4   \n",
       "3               2                2             2  ...                 4   \n",
       "4               4                5             5  ...                 3   \n",
       "\n",
       "   Cleanliness  Departure Delay in Minutes  Arrival Delay in Minutes  \\\n",
       "0            5                          25                      18.0   \n",
       "1            1                           1                       6.0   \n",
       "2            5                           0                       0.0   \n",
       "3            2                          11                       9.0   \n",
       "4            3                           0                       0.0   \n",
       "\n",
       "   satisfaction  Male  disloyal Customer  Personal Travel  Eco  Eco Plus  \n",
       "0             0     1                  0                1    0         1  \n",
       "1             0     1                  1                0    0         0  \n",
       "2             1     0                  0                0    0         0  \n",
       "3             0     0                  0                0    0         0  \n",
       "4             1     1                  0                0    0         0  \n",
       "\n",
       "[5 rows x 25 columns]"
      ]
     },
     "execution_count": 25,
     "metadata": {},
     "output_type": "execute_result"
    }
   ],
   "source": [
    "df.head()"
   ]
  },
  {
   "cell_type": "markdown",
   "metadata": {},
   "source": [
    "# Building the Model"
   ]
  },
  {
   "cell_type": "code",
   "execution_count": 26,
   "metadata": {},
   "outputs": [],
   "source": [
    "from sklearn.model_selection import train_test_split"
   ]
  },
  {
   "cell_type": "code",
   "execution_count": 27,
   "metadata": {},
   "outputs": [],
   "source": [
    "X = df.drop('satisfaction',axis=1).values\n",
    "y = df['satisfaction'].values\n",
    "X_train, X_test, y_train, y_test = train_test_split(X,y,test_size=0.30,random_state=101)"
   ]
  },
  {
   "cell_type": "markdown",
   "metadata": {},
   "source": [
    "### Scaling the values"
   ]
  },
  {
   "cell_type": "code",
   "execution_count": 28,
   "metadata": {},
   "outputs": [],
   "source": [
    "from sklearn.preprocessing import MinMaxScaler"
   ]
  },
  {
   "cell_type": "code",
   "execution_count": 29,
   "metadata": {},
   "outputs": [],
   "source": [
    "scaler = MinMaxScaler()"
   ]
  },
  {
   "cell_type": "code",
   "execution_count": 30,
   "metadata": {},
   "outputs": [],
   "source": [
    "X_train = scaler.fit_transform(X_train)"
   ]
  },
  {
   "cell_type": "code",
   "execution_count": 31,
   "metadata": {},
   "outputs": [],
   "source": [
    "X_test = scaler.transform(X_test)"
   ]
  },
  {
   "cell_type": "code",
   "execution_count": 32,
   "metadata": {},
   "outputs": [],
   "source": [
    "import tensorflow as tf\n",
    "from tensorflow.keras.models import Sequential\n",
    "from tensorflow.keras.layers import Dense, Activation,Dropout"
   ]
  },
  {
   "cell_type": "code",
   "execution_count": 33,
   "metadata": {},
   "outputs": [
    {
     "data": {
      "text/plain": [
       "(72732, 24)"
      ]
     },
     "execution_count": 33,
     "metadata": {},
     "output_type": "execute_result"
    }
   ],
   "source": [
    "X_train.shape"
   ]
  },
  {
   "cell_type": "code",
   "execution_count": 34,
   "metadata": {},
   "outputs": [],
   "source": [
    "#Used to avoid overfitting\n",
    "from tensorflow.keras.callbacks import EarlyStopping"
   ]
  },
  {
   "cell_type": "code",
   "execution_count": 35,
   "metadata": {},
   "outputs": [],
   "source": [
    "early_stop = EarlyStopping(monitor='val_loss',mode='min',verbose=1,patience=20)"
   ]
  },
  {
   "cell_type": "code",
   "execution_count": 36,
   "metadata": {},
   "outputs": [],
   "source": [
    "model = Sequential()\n",
    "\n",
    "# Input layer\n",
    "model.add(Dense(units=23,activation='relu'))\n",
    "\n",
    "# First Hidden Layer\n",
    "model.add(Dense(units=10,activation='relu'))\n",
    "\n",
    "# Second Hidden Layer\n",
    "model.add(Dense(units=5,activation='relu'))\n",
    "\n",
    "# Output Layer will have just one neuron as it is a binary classification and will output one 0 or 1 class\n",
    "model.add(Dense(units=1,activation='sigmoid'))\n",
    "\n",
    "# For a binary classification problem, the loss function that is used is binary_crossentropy\n",
    "model.compile(loss='binary_crossentropy', optimizer='adam')"
   ]
  },
  {
   "cell_type": "code",
   "execution_count": 37,
   "metadata": {},
   "outputs": [
    {
     "name": "stdout",
     "output_type": "stream",
     "text": [
      "Epoch 1/600\n",
      "2273/2273 [==============================] - 5s 2ms/step - loss: 0.2964 - val_loss: 0.2069\n",
      "Epoch 2/600\n",
      "2273/2273 [==============================] - 5s 2ms/step - loss: 0.1818 - val_loss: 0.1599\n",
      "Epoch 3/600\n",
      "2273/2273 [==============================] - 4s 2ms/step - loss: 0.1563 - val_loss: 0.1530\n",
      "Epoch 4/600\n",
      "2273/2273 [==============================] - 4s 2ms/step - loss: 0.1454 - val_loss: 0.1403\n",
      "Epoch 5/600\n",
      "2273/2273 [==============================] - 4s 2ms/step - loss: 0.1385 - val_loss: 0.1554\n",
      "Epoch 6/600\n",
      "2273/2273 [==============================] - 3s 2ms/step - loss: 0.1345 - val_loss: 0.1335\n",
      "Epoch 7/600\n",
      "2273/2273 [==============================] - 4s 2ms/step - loss: 0.1299 - val_loss: 0.1506\n",
      "Epoch 8/600\n",
      "2273/2273 [==============================] - 4s 2ms/step - loss: 0.1272 - val_loss: 0.1338\n",
      "Epoch 9/600\n",
      "2273/2273 [==============================] - 4s 2ms/step - loss: 0.1249 - val_loss: 0.1283\n",
      "Epoch 10/600\n",
      "2273/2273 [==============================] - 3s 2ms/step - loss: 0.1215 - val_loss: 0.1245\n",
      "Epoch 11/600\n",
      "2273/2273 [==============================] - 4s 2ms/step - loss: 0.1209 - val_loss: 0.1391\n",
      "Epoch 12/600\n",
      "2273/2273 [==============================] - 6s 3ms/step - loss: 0.1176 - val_loss: 0.1187\n",
      "Epoch 13/600\n",
      "2273/2273 [==============================] - 5s 2ms/step - loss: 0.1161 - val_loss: 0.1154\n",
      "Epoch 14/600\n",
      "2273/2273 [==============================] - 4s 2ms/step - loss: 0.1148 - val_loss: 0.1210\n",
      "Epoch 15/600\n",
      "2273/2273 [==============================] - 4s 2ms/step - loss: 0.1138 - val_loss: 0.1124\n",
      "Epoch 16/600\n",
      "2273/2273 [==============================] - 4s 2ms/step - loss: 0.1132 - val_loss: 0.1260\n",
      "Epoch 17/600\n",
      "2273/2273 [==============================] - 4s 2ms/step - loss: 0.1114 - val_loss: 0.1126\n",
      "Epoch 18/600\n",
      "2273/2273 [==============================] - 4s 2ms/step - loss: 0.1110 - val_loss: 0.1141\n",
      "Epoch 19/600\n",
      "2273/2273 [==============================] - 4s 2ms/step - loss: 0.1106 - val_loss: 0.1091\n",
      "Epoch 20/600\n",
      "2273/2273 [==============================] - 5s 2ms/step - loss: 0.1089 - val_loss: 0.1053\n",
      "Epoch 21/600\n",
      "2273/2273 [==============================] - 4s 2ms/step - loss: 0.1083 - val_loss: 0.1212\n",
      "Epoch 22/600\n",
      "2273/2273 [==============================] - 4s 2ms/step - loss: 0.1081 - val_loss: 0.1112\n",
      "Epoch 23/600\n",
      "2273/2273 [==============================] - 5s 2ms/step - loss: 0.1071 - val_loss: 0.1076\n",
      "Epoch 24/600\n",
      "2273/2273 [==============================] - 4s 2ms/step - loss: 0.1067 - val_loss: 0.1056\n",
      "Epoch 25/600\n",
      "2273/2273 [==============================] - 4s 2ms/step - loss: 0.1058 - val_loss: 0.1064\n",
      "Epoch 26/600\n",
      "2273/2273 [==============================] - 4s 2ms/step - loss: 0.1053 - val_loss: 0.1096\n",
      "Epoch 27/600\n",
      "2273/2273 [==============================] - 4s 2ms/step - loss: 0.1051 - val_loss: 0.1107\n",
      "Epoch 28/600\n",
      "2273/2273 [==============================] - 4s 2ms/step - loss: 0.1039 - val_loss: 0.1053\n",
      "Epoch 29/600\n",
      "2273/2273 [==============================] - 4s 2ms/step - loss: 0.1046 - val_loss: 0.1047\n",
      "Epoch 30/600\n",
      "2273/2273 [==============================] - 4s 2ms/step - loss: 0.1042 - val_loss: 0.1315\n",
      "Epoch 31/600\n",
      "2273/2273 [==============================] - 5s 2ms/step - loss: 0.1036 - val_loss: 0.1025\n",
      "Epoch 32/600\n",
      "2273/2273 [==============================] - 4s 2ms/step - loss: 0.1031 - val_loss: 0.1033\n",
      "Epoch 33/600\n",
      "2273/2273 [==============================] - 5s 2ms/step - loss: 0.1022 - val_loss: 0.1047\n",
      "Epoch 34/600\n",
      "2273/2273 [==============================] - 4s 2ms/step - loss: 0.1026 - val_loss: 0.1010\n",
      "Epoch 35/600\n",
      "2273/2273 [==============================] - 6s 3ms/step - loss: 0.1023 - val_loss: 0.1047\n",
      "Epoch 36/600\n",
      "2273/2273 [==============================] - 4s 2ms/step - loss: 0.1011 - val_loss: 0.1013\n",
      "Epoch 37/600\n",
      "2273/2273 [==============================] - 4s 2ms/step - loss: 0.1013 - val_loss: 0.1049\n",
      "Epoch 38/600\n",
      "2273/2273 [==============================] - 4s 2ms/step - loss: 0.1011 - val_loss: 0.1024\n",
      "Epoch 39/600\n",
      "2273/2273 [==============================] - 4s 2ms/step - loss: 0.1010 - val_loss: 0.1027\n",
      "Epoch 40/600\n",
      "2273/2273 [==============================] - 4s 2ms/step - loss: 0.1001 - val_loss: 0.1288\n",
      "Epoch 41/600\n",
      "2273/2273 [==============================] - 4s 2ms/step - loss: 0.1006 - val_loss: 0.1009\n",
      "Epoch 42/600\n",
      "2273/2273 [==============================] - 4s 2ms/step - loss: 0.0994 - val_loss: 0.1154\n",
      "Epoch 43/600\n",
      "2273/2273 [==============================] - 4s 2ms/step - loss: 0.0989 - val_loss: 0.0996\n",
      "Epoch 44/600\n",
      "2273/2273 [==============================] - 4s 2ms/step - loss: 0.0991 - val_loss: 0.1238\n",
      "Epoch 45/600\n",
      "2273/2273 [==============================] - 4s 2ms/step - loss: 0.0986 - val_loss: 0.0988\n",
      "Epoch 46/600\n",
      "2273/2273 [==============================] - 4s 2ms/step - loss: 0.0979 - val_loss: 0.1031\n",
      "Epoch 47/600\n",
      "2273/2273 [==============================] - 4s 2ms/step - loss: 0.0973 - val_loss: 0.0986\n",
      "Epoch 48/600\n",
      "2273/2273 [==============================] - 4s 2ms/step - loss: 0.0979 - val_loss: 0.0965\n",
      "Epoch 49/600\n",
      "2273/2273 [==============================] - 4s 2ms/step - loss: 0.0968 - val_loss: 0.0985\n",
      "Epoch 50/600\n",
      "2273/2273 [==============================] - 4s 2ms/step - loss: 0.0967 - val_loss: 0.1008\n",
      "Epoch 51/600\n",
      "2273/2273 [==============================] - 4s 2ms/step - loss: 0.0960 - val_loss: 0.1097\n",
      "Epoch 52/600\n",
      "2273/2273 [==============================] - 4s 2ms/step - loss: 0.0961 - val_loss: 0.1123\n",
      "Epoch 53/600\n",
      "2273/2273 [==============================] - 4s 2ms/step - loss: 0.0957 - val_loss: 0.0992\n",
      "Epoch 54/600\n",
      "2273/2273 [==============================] - 4s 2ms/step - loss: 0.0956 - val_loss: 0.0998\n",
      "Epoch 55/600\n",
      "2273/2273 [==============================] - 4s 2ms/step - loss: 0.0952 - val_loss: 0.0968\n",
      "Epoch 56/600\n",
      "2273/2273 [==============================] - 4s 2ms/step - loss: 0.0941 - val_loss: 0.1009\n",
      "Epoch 57/600\n",
      "2273/2273 [==============================] - 4s 2ms/step - loss: 0.0954 - val_loss: 0.0967\n",
      "Epoch 58/600\n",
      "2273/2273 [==============================] - 4s 2ms/step - loss: 0.0944 - val_loss: 0.0973\n",
      "Epoch 59/600\n",
      "2273/2273 [==============================] - 4s 2ms/step - loss: 0.0941 - val_loss: 0.0996\n",
      "Epoch 60/600\n",
      "2273/2273 [==============================] - 4s 2ms/step - loss: 0.0943 - val_loss: 0.1044\n",
      "Epoch 61/600\n",
      "2273/2273 [==============================] - 4s 2ms/step - loss: 0.0932 - val_loss: 0.1066\n",
      "Epoch 62/600\n",
      "2273/2273 [==============================] - 4s 2ms/step - loss: 0.0926 - val_loss: 0.0971\n",
      "Epoch 63/600\n",
      "2273/2273 [==============================] - 4s 2ms/step - loss: 0.0931 - val_loss: 0.0944\n",
      "Epoch 64/600\n",
      "2273/2273 [==============================] - 4s 2ms/step - loss: 0.0932 - val_loss: 0.1042\n",
      "Epoch 65/600\n",
      "2273/2273 [==============================] - 4s 2ms/step - loss: 0.0931 - val_loss: 0.1132\n",
      "Epoch 66/600\n",
      "2273/2273 [==============================] - 4s 2ms/step - loss: 0.0933 - val_loss: 0.0948\n",
      "Epoch 67/600\n",
      "2273/2273 [==============================] - 4s 2ms/step - loss: 0.0926 - val_loss: 0.0958\n",
      "Epoch 68/600\n",
      "2273/2273 [==============================] - 4s 2ms/step - loss: 0.0928 - val_loss: 0.1006\n",
      "Epoch 69/600\n",
      "2273/2273 [==============================] - 4s 2ms/step - loss: 0.0922 - val_loss: 0.0931\n",
      "Epoch 70/600\n",
      "2273/2273 [==============================] - 4s 2ms/step - loss: 0.0920 - val_loss: 0.0933\n",
      "Epoch 71/600\n",
      "2273/2273 [==============================] - 4s 2ms/step - loss: 0.0924 - val_loss: 0.0960\n",
      "Epoch 72/600\n",
      "2273/2273 [==============================] - 4s 2ms/step - loss: 0.0919 - val_loss: 0.0960\n",
      "Epoch 73/600\n",
      "2273/2273 [==============================] - 5s 2ms/step - loss: 0.0918 - val_loss: 0.0973\n",
      "Epoch 74/600\n",
      "2273/2273 [==============================] - 5s 2ms/step - loss: 0.0922 - val_loss: 0.0976\n",
      "Epoch 75/600\n",
      "2273/2273 [==============================] - 5s 2ms/step - loss: 0.0914 - val_loss: 0.0965\n",
      "Epoch 76/600\n",
      "2273/2273 [==============================] - 5s 2ms/step - loss: 0.0912 - val_loss: 0.0934\n",
      "Epoch 77/600\n",
      "2273/2273 [==============================] - 5s 2ms/step - loss: 0.0919 - val_loss: 0.0990\n",
      "Epoch 78/600\n",
      "2273/2273 [==============================] - 4s 2ms/step - loss: 0.0917 - val_loss: 0.0948\n",
      "Epoch 79/600\n",
      "2273/2273 [==============================] - 5s 2ms/step - loss: 0.0913 - val_loss: 0.0988\n"
     ]
    },
    {
     "name": "stdout",
     "output_type": "stream",
     "text": [
      "Epoch 80/600\n",
      "2273/2273 [==============================] - 6s 2ms/step - loss: 0.0917 - val_loss: 0.0966\n",
      "Epoch 81/600\n",
      "2273/2273 [==============================] - 5s 2ms/step - loss: 0.0907 - val_loss: 0.0973\n",
      "Epoch 82/600\n",
      "2273/2273 [==============================] - 5s 2ms/step - loss: 0.0905 - val_loss: 0.0928\n",
      "Epoch 83/600\n",
      "2273/2273 [==============================] - 5s 2ms/step - loss: 0.0908 - val_loss: 0.0958\n",
      "Epoch 84/600\n",
      "2273/2273 [==============================] - 4s 2ms/step - loss: 0.0908 - val_loss: 0.1082\n",
      "Epoch 85/600\n",
      "2273/2273 [==============================] - 4s 2ms/step - loss: 0.0900 - val_loss: 0.0964\n",
      "Epoch 86/600\n",
      "2273/2273 [==============================] - 4s 2ms/step - loss: 0.0900 - val_loss: 0.0949\n",
      "Epoch 87/600\n",
      "2273/2273 [==============================] - 4s 2ms/step - loss: 0.0899 - val_loss: 0.0948\n",
      "Epoch 88/600\n",
      "2273/2273 [==============================] - 4s 2ms/step - loss: 0.0895 - val_loss: 0.0944\n",
      "Epoch 89/600\n",
      "2273/2273 [==============================] - 4s 2ms/step - loss: 0.0893 - val_loss: 0.0982\n",
      "Epoch 90/600\n",
      "2273/2273 [==============================] - 4s 2ms/step - loss: 0.0901 - val_loss: 0.0952\n",
      "Epoch 91/600\n",
      "2273/2273 [==============================] - 4s 2ms/step - loss: 0.0893 - val_loss: 0.0941\n",
      "Epoch 92/600\n",
      "2273/2273 [==============================] - 4s 2ms/step - loss: 0.0892 - val_loss: 0.0933\n",
      "Epoch 93/600\n",
      "2273/2273 [==============================] - 4s 2ms/step - loss: 0.0892 - val_loss: 0.0948\n",
      "Epoch 94/600\n",
      "2273/2273 [==============================] - 4s 2ms/step - loss: 0.0890 - val_loss: 0.0926\n",
      "Epoch 95/600\n",
      "2273/2273 [==============================] - 4s 2ms/step - loss: 0.0890 - val_loss: 0.0925\n",
      "Epoch 96/600\n",
      "2273/2273 [==============================] - 4s 2ms/step - loss: 0.0889 - val_loss: 0.0932\n",
      "Epoch 97/600\n",
      "2273/2273 [==============================] - 4s 2ms/step - loss: 0.0892 - val_loss: 0.0958\n",
      "Epoch 98/600\n",
      "2273/2273 [==============================] - 4s 2ms/step - loss: 0.0892 - val_loss: 0.1003\n",
      "Epoch 99/600\n",
      "2273/2273 [==============================] - 4s 2ms/step - loss: 0.0889 - val_loss: 0.0941\n",
      "Epoch 100/600\n",
      "2273/2273 [==============================] - 4s 2ms/step - loss: 0.0885 - val_loss: 0.0943\n",
      "Epoch 101/600\n",
      "2273/2273 [==============================] - 4s 2ms/step - loss: 0.0889 - val_loss: 0.0926\n",
      "Epoch 102/600\n",
      "2273/2273 [==============================] - 4s 2ms/step - loss: 0.0883 - val_loss: 0.0945\n",
      "Epoch 103/600\n",
      "2273/2273 [==============================] - 4s 2ms/step - loss: 0.0884 - val_loss: 0.0940\n",
      "Epoch 104/600\n",
      "2273/2273 [==============================] - 4s 2ms/step - loss: 0.0878 - val_loss: 0.0923\n",
      "Epoch 105/600\n",
      "2273/2273 [==============================] - 5s 2ms/step - loss: 0.0884 - val_loss: 0.0926\n",
      "Epoch 106/600\n",
      "2273/2273 [==============================] - 5s 2ms/step - loss: 0.0881 - val_loss: 0.1042\n",
      "Epoch 107/600\n",
      "2273/2273 [==============================] - 4s 2ms/step - loss: 0.0879 - val_loss: 0.0932\n",
      "Epoch 108/600\n",
      "2273/2273 [==============================] - 4s 2ms/step - loss: 0.0883 - val_loss: 0.0931\n",
      "Epoch 109/600\n",
      "2273/2273 [==============================] - 4s 2ms/step - loss: 0.0870 - val_loss: 0.0926\n",
      "Epoch 110/600\n",
      "2273/2273 [==============================] - 4s 2ms/step - loss: 0.0875 - val_loss: 0.0950\n",
      "Epoch 111/600\n",
      "2273/2273 [==============================] - 4s 2ms/step - loss: 0.0879 - val_loss: 0.0970\n",
      "Epoch 112/600\n",
      "2273/2273 [==============================] - 4s 2ms/step - loss: 0.0880 - val_loss: 0.0921\n",
      "Epoch 113/600\n",
      "2273/2273 [==============================] - 4s 2ms/step - loss: 0.0878 - val_loss: 0.0941\n",
      "Epoch 114/600\n",
      "2273/2273 [==============================] - 4s 2ms/step - loss: 0.0880 - val_loss: 0.0938\n",
      "Epoch 115/600\n",
      "2273/2273 [==============================] - 4s 2ms/step - loss: 0.0871 - val_loss: 0.0915\n",
      "Epoch 116/600\n",
      "2273/2273 [==============================] - 5s 2ms/step - loss: 0.0874 - val_loss: 0.0930\n",
      "Epoch 117/600\n",
      "2273/2273 [==============================] - 5s 2ms/step - loss: 0.0867 - val_loss: 0.0950\n",
      "Epoch 118/600\n",
      "2273/2273 [==============================] - 6s 2ms/step - loss: 0.0866 - val_loss: 0.0919\n",
      "Epoch 119/600\n",
      "2273/2273 [==============================] - 4s 2ms/step - loss: 0.0871 - val_loss: 0.0940\n",
      "Epoch 120/600\n",
      "2273/2273 [==============================] - 5s 2ms/step - loss: 0.0870 - val_loss: 0.0909\n",
      "Epoch 121/600\n",
      "2273/2273 [==============================] - 4s 2ms/step - loss: 0.0871 - val_loss: 0.0932\n",
      "Epoch 122/600\n",
      "2273/2273 [==============================] - 4s 2ms/step - loss: 0.0868 - val_loss: 0.0915\n",
      "Epoch 123/600\n",
      "2273/2273 [==============================] - 4s 2ms/step - loss: 0.0865 - val_loss: 0.0918\n",
      "Epoch 124/600\n",
      "2273/2273 [==============================] - 4s 2ms/step - loss: 0.0863 - val_loss: 0.0933\n",
      "Epoch 125/600\n",
      "2273/2273 [==============================] - 5s 2ms/step - loss: 0.0871 - val_loss: 0.0930\n",
      "Epoch 126/600\n",
      "2273/2273 [==============================] - 5s 2ms/step - loss: 0.0863 - val_loss: 0.0937\n",
      "Epoch 127/600\n",
      "2273/2273 [==============================] - 5s 2ms/step - loss: 0.0856 - val_loss: 0.0930\n",
      "Epoch 128/600\n",
      "2273/2273 [==============================] - 4s 2ms/step - loss: 0.0863 - val_loss: 0.0949\n",
      "Epoch 129/600\n",
      "2273/2273 [==============================] - 4s 2ms/step - loss: 0.0865 - val_loss: 0.0917\n",
      "Epoch 130/600\n",
      "2273/2273 [==============================] - 5s 2ms/step - loss: 0.0864 - val_loss: 0.0914\n",
      "Epoch 131/600\n",
      "2273/2273 [==============================] - 4s 2ms/step - loss: 0.0860 - val_loss: 0.0915\n",
      "Epoch 132/600\n",
      "2273/2273 [==============================] - 5s 2ms/step - loss: 0.0863 - val_loss: 0.0906\n",
      "Epoch 133/600\n",
      "2273/2273 [==============================] - 4s 2ms/step - loss: 0.0863 - val_loss: 0.0933\n",
      "Epoch 134/600\n",
      "2273/2273 [==============================] - 4s 2ms/step - loss: 0.0858 - val_loss: 0.0963\n",
      "Epoch 135/600\n",
      "2273/2273 [==============================] - 5s 2ms/step - loss: 0.0862 - val_loss: 0.0968\n",
      "Epoch 136/600\n",
      "2273/2273 [==============================] - 5s 2ms/step - loss: 0.0864 - val_loss: 0.0908\n",
      "Epoch 137/600\n",
      "2273/2273 [==============================] - 4s 2ms/step - loss: 0.0859 - val_loss: 0.0935\n",
      "Epoch 138/600\n",
      "2273/2273 [==============================] - 4s 2ms/step - loss: 0.0857 - val_loss: 0.0932\n",
      "Epoch 139/600\n",
      "2273/2273 [==============================] - 4s 2ms/step - loss: 0.0857 - val_loss: 0.0914\n",
      "Epoch 140/600\n",
      "2273/2273 [==============================] - 5s 2ms/step - loss: 0.0863 - val_loss: 0.0936\n",
      "Epoch 141/600\n",
      "2273/2273 [==============================] - 4s 2ms/step - loss: 0.0857 - val_loss: 0.0958\n",
      "Epoch 142/600\n",
      "2273/2273 [==============================] - 4s 2ms/step - loss: 0.0851 - val_loss: 0.0955\n",
      "Epoch 143/600\n",
      "2273/2273 [==============================] - 4s 2ms/step - loss: 0.0855 - val_loss: 0.0944\n",
      "Epoch 144/600\n",
      "2273/2273 [==============================] - 4s 2ms/step - loss: 0.0860 - val_loss: 0.0910\n",
      "Epoch 145/600\n",
      "2273/2273 [==============================] - 5s 2ms/step - loss: 0.0858 - val_loss: 0.0922\n",
      "Epoch 146/600\n",
      "2273/2273 [==============================] - 4s 2ms/step - loss: 0.0848 - val_loss: 0.0953\n",
      "Epoch 147/600\n",
      "2273/2273 [==============================] - 4s 2ms/step - loss: 0.0856 - val_loss: 0.0915\n",
      "Epoch 148/600\n",
      "2273/2273 [==============================] - 4s 2ms/step - loss: 0.0852 - val_loss: 0.0953\n",
      "Epoch 149/600\n",
      "2273/2273 [==============================] - 4s 2ms/step - loss: 0.0853 - val_loss: 0.0963\n",
      "Epoch 150/600\n",
      "2273/2273 [==============================] - 4s 2ms/step - loss: 0.0850 - val_loss: 0.0940\n",
      "Epoch 151/600\n",
      "2273/2273 [==============================] - 4s 2ms/step - loss: 0.0856 - val_loss: 0.0930\n",
      "Epoch 152/600\n",
      "2273/2273 [==============================] - 4s 2ms/step - loss: 0.0849 - val_loss: 0.1076\n",
      "Epoch 00152: early stopping\n"
     ]
    }
   ],
   "source": [
    "results = model.fit(x=X_train,y=y_train,epochs=600,batch_size=32,validation_data=(X_test,y_test),callbacks=[early_stop])"
   ]
  },
  {
   "cell_type": "code",
   "execution_count": 38,
   "metadata": {},
   "outputs": [
    {
     "data": {
      "text/plain": [
       "<matplotlib.axes._subplots.AxesSubplot at 0x29ebbe682e0>"
      ]
     },
     "execution_count": 38,
     "metadata": {},
     "output_type": "execute_result"
    },
    {
     "data": {
      "image/png": "[encoded data removed]",
      "text/plain": [
       "<Figure size 432x288 with 1 Axes>"
      ]
     },
     "metadata": {},
     "output_type": "display_data"
    }
   ],
   "source": [
    "model_loss = pd.DataFrame(model.history.history)\n",
    "model_loss.plot()"
   ]
  },
  {
   "cell_type": "code",
   "execution_count": 39,
   "metadata": {},
   "outputs": [
    {
     "name": "stdout",
     "output_type": "stream",
     "text": [
      "WARNING:tensorflow:From <ipython-input-39-bc83193b8b59>:1: Sequential.predict_classes (from tensorflow.python.keras.engine.sequential) is deprecated and will be removed after 2021-01-01.\n",
      "Instructions for updating:\n",
      "Please use instead:* `np.argmax(model.predict(x), axis=-1)`,   if your model does multi-class classification   (e.g. if it uses a `softmax` last-layer activation).* `(model.predict(x) > 0.5).astype(\"int32\")`,   if your model does binary classification   (e.g. if it uses a `sigmoid` last-layer activation).\n"
     ]
    }
   ],
   "source": [
    "predictions = model.predict_classes(X_test)"
   ]
  },
  {
   "cell_type": "markdown",
   "metadata": {},
   "source": [
    "# Model Evaluation"
   ]
  },
  {
   "cell_type": "code",
   "execution_count": 40,
   "metadata": {},
   "outputs": [],
   "source": [
    "from sklearn.metrics import classification_report,confusion_matrix"
   ]
  },
  {
   "cell_type": "code",
   "execution_count": 41,
   "metadata": {},
   "outputs": [
    {
     "name": "stdout",
     "output_type": "stream",
     "text": [
      "              precision    recall  f1-score   support\n",
      "\n",
      "           0       0.98      0.93      0.95     17649\n",
      "           1       0.91      0.97      0.94     13523\n",
      "\n",
      "    accuracy                           0.94     31172\n",
      "   macro avg       0.94      0.95      0.94     31172\n",
      "weighted avg       0.95      0.94      0.94     31172\n",
      "\n",
      "[[16334  1315]\n",
      " [  414 13109]]\n"
     ]
    }
   ],
   "source": [
    "print(classification_report(y_test,predictions))\n",
    "print(confusion_matrix(y_test,predictions))"
   ]
  },
  {
   "cell_type": "markdown",
   "metadata": {},
   "source": [
    "###### We can see that the ANN model also gives good results and this can also be used to make predictions."
   ]
  }
 ],
 "metadata": {
  "kernelspec": {
   "display_name": "Python 3",
   "language": "python",
   "name": "python3"
  },
  "language_info": {
   "codemirror_mode": {
    "name": "ipython",
    "version": 3
   },
   "file_extension": ".py",
   "mimetype": "text/x-python",
   "name": "python",
   "nbconvert_exporter": "python",
   "pygments_lexer": "ipython3",
   "version": "3.8.3"
  }
 },
 "nbformat": 4,
 "nbformat_minor": 4
}
